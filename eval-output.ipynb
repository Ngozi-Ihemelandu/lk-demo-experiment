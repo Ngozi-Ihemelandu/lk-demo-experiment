{
 "cells": [
  {
   "cell_type": "markdown",
   "metadata": {},
   "source": [
    "# Evaluation Analysis for Recommender Output"
   ]
  },
  {
   "cell_type": "markdown",
   "metadata": {},
   "source": [
    "In this section, our goal is to analyze and compare the generated recommendations and predictions from a predefined list of algorithms\n",
    "\n",
    "Purpose of the notebook\n",
    "Say purpose of each set of packages"
   ]
  },
  {
   "cell_type": "markdown",
   "metadata": {},
   "source": [
    "## Setup"
   ]
  },
  {
   "cell_type": "code",
   "execution_count": 1,
   "metadata": {},
   "outputs": [],
   "source": [
    "from pathlib import Path\n"
   ]
  },
  {
   "cell_type": "code",
   "execution_count": 2,
   "metadata": {},
   "outputs": [],
   "source": [
    "import pandas as pd\n",
    "import seaborn as sns\n",
    "import matplotlib.pyplot as plt"
   ]
  },
  {
   "cell_type": "code",
   "execution_count": 3,
   "metadata": {},
   "outputs": [],
   "source": [
    "from lenskit import topn\n",
    "from lenskit.metrics.predict import rmse"
   ]
  },
  {
   "cell_type": "markdown",
   "metadata": {},
   "source": [
    "## Load Data"
   ]
  },
  {
   "cell_type": "markdown",
   "metadata": {},
   "source": [
    "The name of the directory that holds the files that are required to successfully run this analysis should be specified here. The naming convention described below should be adhered to cause the names of the dataset and algorithm needed for the analysis are extracted from the sub-directory names.\n",
    "\n",
    "* outermost-directory [name-of-outermost-directory]\n",
    "    * sub-directory [dataset-algo] (Name of dataset and algorithm with a hyphen between them)\n",
    "    \n",
    "Each sub-directory within the outermost-directory must contain the recommendation and prediction dataset files that are to be used in the analysis. The name of each sub-directory must reflect the dataset and algorithm used in generating the dataset files it holds. Hence, the naming convention for the sub-directory must be adhered to. "
   ]
  },
  {
   "cell_type": "code",
   "execution_count": 4,
   "metadata": {},
   "outputs": [],
   "source": [
    "out_dir = Path(\"output\")"
   ]
  },
  {
   "cell_type": "code",
   "execution_count": 5,
   "metadata": {},
   "outputs": [],
   "source": [
    "\n",
    "dirs = [e for e in out_dir.iterdir() if e.is_dir()]"
   ]
  },
  {
   "cell_type": "code",
   "execution_count": 6,
   "metadata": {},
   "outputs": [],
   "source": [
    "recs = []\n",
    "for fld in dirs:\n",
    "    for file in fld.glob(\"recs-*\"):\n",
    "        rec = pd.read_csv(file, sep=',')\n",
    "        rec[\"dataset\"] = fld.name.split(\"-\")[0]\n",
    "        rec[\"algorithm\"] = fld.name.split(\"-\")[1]\n",
    "        recs.append(rec)\n",
    "\n",
    "recs = pd.concat(recs, ignore_index=True)\n",
    "recs = recs.astype({'dataset': 'category', 'algorithm': 'category'})"
   ]
  },
  {
   "cell_type": "code",
   "execution_count": 7,
   "metadata": {},
   "outputs": [],
   "source": [
    "preds = []\n",
    "for fld in dirs:\n",
    "    for file in fld.glob(\"pred-*\"):\n",
    "        pred = pd.read_csv(file, sep=',')\n",
    "        pred[\"dataset\"] = fld.name.split(\"-\")[0]\n",
    "        pred[\"algorithm\"] = fld.name.split(\"-\")[1]\n",
    "        preds.append(pred)\n",
    "\n",
    "preds = pd.concat(preds, ignore_index=True)"
   ]
  },
  {
   "cell_type": "markdown",
   "metadata": {},
   "source": [
    "Specify the name of the directory where the test dataset files that are to be used for the analysis are retrieved. Each test dataset must have a corresponding recommendation/prediction dataset."
   ]
  },
  {
   "cell_type": "code",
   "execution_count": 8,
   "metadata": {},
   "outputs": [],
   "source": [
    "testSplitData = \"splitData\""
   ]
  },
  {
   "cell_type": "code",
   "execution_count": 9,
   "metadata": {},
   "outputs": [],
   "source": [
    "path = Path(testSplitData)\n",
    "dirs = [e for e in path.iterdir() if e.is_dir()]"
   ]
  },
  {
   "cell_type": "code",
   "execution_count": 10,
   "metadata": {},
   "outputs": [],
   "source": [
    "test = []\n",
    "for fld in dirs:\n",
    "    for file in fld.glob(\"test-*\"):\n",
    "        test.append(pd.read_csv(file, sep=','))\n",
    "\n",
    "test = pd.concat(test, ignore_index=True)"
   ]
  },
  {
   "cell_type": "markdown",
   "metadata": {},
   "source": [
    "# Compute Metrics"
   ]
  },
  {
   "cell_type": "markdown",
   "metadata": {},
   "source": [
    "The lenskit.metrics.topn module contains metrics for evaluating top-N recommendation lists. https://lkpy.lenskit.org/en/stable/evaluation/topn-metrics.html. The following top-n metrics (precision, ndcg, reciprocal rank) are computed for this analysis.  The RecListAnalysis class encapsulates an analysis with one or more metrics, and can apply it to data frames of recommendations. An analysis requires two data frames: the recommendation frame contains the recommendations themselves, and the truth frame contains the ground truth data for the users (refer to the documentation for detailed explanation of the purpose for the RecListAnalysis class). "
   ]
  },
  {
   "cell_type": "code",
   "execution_count": 19,
   "metadata": {},
   "outputs": [
    {
     "name": "stderr",
     "output_type": "stream",
     "text": [
      "C:\\Users\\ngozi\\Anaconda3\\lib\\site-packages\\lenskit\\topn.py:104: UserWarning: truth frame does not have unique values\n",
      "  warnings.warn('truth frame does not have unique values')\n"
     ]
    },
    {
     "data": {
      "text/html": [
       "<div>\n",
       "<style scoped>\n",
       "    .dataframe tbody tr th:only-of-type {\n",
       "        vertical-align: middle;\n",
       "    }\n",
       "\n",
       "    .dataframe tbody tr th {\n",
       "        vertical-align: top;\n",
       "    }\n",
       "\n",
       "    .dataframe thead th {\n",
       "        text-align: right;\n",
       "    }\n",
       "</style>\n",
       "<table border=\"1\" class=\"dataframe\">\n",
       "  <thead>\n",
       "    <tr style=\"text-align: right;\">\n",
       "      <th></th>\n",
       "      <th></th>\n",
       "      <th></th>\n",
       "      <th>nrecs</th>\n",
       "      <th>precision</th>\n",
       "      <th>recip_rank</th>\n",
       "      <th>ndcg</th>\n",
       "    </tr>\n",
       "    <tr>\n",
       "      <th>user</th>\n",
       "      <th>dataset</th>\n",
       "      <th>algorithms</th>\n",
       "      <th></th>\n",
       "      <th></th>\n",
       "      <th></th>\n",
       "      <th></th>\n",
       "    </tr>\n",
       "  </thead>\n",
       "  <tbody>\n",
       "    <tr>\n",
       "      <th rowspan=\"12\" valign=\"top\">1</th>\n",
       "      <th rowspan=\"4\" valign=\"top\">ml100k</th>\n",
       "      <th>ALS</th>\n",
       "      <td>100.0</td>\n",
       "      <td>0.00</td>\n",
       "      <td>0.000000</td>\n",
       "      <td>0.000000</td>\n",
       "    </tr>\n",
       "    <tr>\n",
       "      <th>IALS</th>\n",
       "      <td>100.0</td>\n",
       "      <td>0.01</td>\n",
       "      <td>0.010526</td>\n",
       "      <td>0.026412</td>\n",
       "    </tr>\n",
       "    <tr>\n",
       "      <th>II</th>\n",
       "      <td>100.0</td>\n",
       "      <td>0.01</td>\n",
       "      <td>0.016393</td>\n",
       "      <td>0.029259</td>\n",
       "    </tr>\n",
       "    <tr>\n",
       "      <th>UU</th>\n",
       "      <td>100.0</td>\n",
       "      <td>0.00</td>\n",
       "      <td>0.000000</td>\n",
       "      <td>0.000000</td>\n",
       "    </tr>\n",
       "    <tr>\n",
       "      <th rowspan=\"4\" valign=\"top\">ml1m</th>\n",
       "      <th>ALS</th>\n",
       "      <td>100.0</td>\n",
       "      <td>0.01</td>\n",
       "      <td>0.045455</td>\n",
       "      <td>0.038912</td>\n",
       "    </tr>\n",
       "    <tr>\n",
       "      <th>IALS</th>\n",
       "      <td>100.0</td>\n",
       "      <td>0.05</td>\n",
       "      <td>0.333333</td>\n",
       "      <td>0.230646</td>\n",
       "    </tr>\n",
       "    <tr>\n",
       "      <th>II</th>\n",
       "      <td>100.0</td>\n",
       "      <td>0.01</td>\n",
       "      <td>0.055556</td>\n",
       "      <td>0.041614</td>\n",
       "    </tr>\n",
       "    <tr>\n",
       "      <th>UU</th>\n",
       "      <td>100.0</td>\n",
       "      <td>0.01</td>\n",
       "      <td>0.010309</td>\n",
       "      <td>0.026292</td>\n",
       "    </tr>\n",
       "    <tr>\n",
       "      <th rowspan=\"4\" valign=\"top\">mlsmall</th>\n",
       "      <th>ALS</th>\n",
       "      <td>100.0</td>\n",
       "      <td>0.00</td>\n",
       "      <td>0.000000</td>\n",
       "      <td>0.000000</td>\n",
       "    </tr>\n",
       "    <tr>\n",
       "      <th>IALS</th>\n",
       "      <td>100.0</td>\n",
       "      <td>0.01</td>\n",
       "      <td>0.038462</td>\n",
       "      <td>0.036917</td>\n",
       "    </tr>\n",
       "    <tr>\n",
       "      <th>II</th>\n",
       "      <td>100.0</td>\n",
       "      <td>0.00</td>\n",
       "      <td>0.000000</td>\n",
       "      <td>0.000000</td>\n",
       "    </tr>\n",
       "    <tr>\n",
       "      <th>UU</th>\n",
       "      <td>100.0</td>\n",
       "      <td>0.00</td>\n",
       "      <td>0.000000</td>\n",
       "      <td>0.000000</td>\n",
       "    </tr>\n",
       "    <tr>\n",
       "      <th rowspan=\"12\" valign=\"top\">2</th>\n",
       "      <th rowspan=\"4\" valign=\"top\">ml100k</th>\n",
       "      <th>ALS</th>\n",
       "      <td>100.0</td>\n",
       "      <td>0.02</td>\n",
       "      <td>0.062500</td>\n",
       "      <td>0.061168</td>\n",
       "    </tr>\n",
       "    <tr>\n",
       "      <th>IALS</th>\n",
       "      <td>100.0</td>\n",
       "      <td>0.05</td>\n",
       "      <td>0.111111</td>\n",
       "      <td>0.144221</td>\n",
       "    </tr>\n",
       "    <tr>\n",
       "      <th>II</th>\n",
       "      <td>100.0</td>\n",
       "      <td>0.01</td>\n",
       "      <td>0.055556</td>\n",
       "      <td>0.042627</td>\n",
       "    </tr>\n",
       "    <tr>\n",
       "      <th>UU</th>\n",
       "      <td>100.0</td>\n",
       "      <td>0.01</td>\n",
       "      <td>0.023810</td>\n",
       "      <td>0.032964</td>\n",
       "    </tr>\n",
       "    <tr>\n",
       "      <th rowspan=\"4\" valign=\"top\">ml1m</th>\n",
       "      <th>ALS</th>\n",
       "      <td>100.0</td>\n",
       "      <td>0.03</td>\n",
       "      <td>0.166667</td>\n",
       "      <td>0.135977</td>\n",
       "    </tr>\n",
       "    <tr>\n",
       "      <th>IALS</th>\n",
       "      <td>100.0</td>\n",
       "      <td>0.05</td>\n",
       "      <td>0.043478</td>\n",
       "      <td>0.127820</td>\n",
       "    </tr>\n",
       "    <tr>\n",
       "      <th>II</th>\n",
       "      <td>100.0</td>\n",
       "      <td>0.03</td>\n",
       "      <td>0.076923</td>\n",
       "      <td>0.128245</td>\n",
       "    </tr>\n",
       "    <tr>\n",
       "      <th>UU</th>\n",
       "      <td>100.0</td>\n",
       "      <td>0.02</td>\n",
       "      <td>0.052632</td>\n",
       "      <td>0.066805</td>\n",
       "    </tr>\n",
       "    <tr>\n",
       "      <th rowspan=\"4\" valign=\"top\">mlsmall</th>\n",
       "      <th>ALS</th>\n",
       "      <td>100.0</td>\n",
       "      <td>0.01</td>\n",
       "      <td>0.047619</td>\n",
       "      <td>0.040469</td>\n",
       "    </tr>\n",
       "    <tr>\n",
       "      <th>IALS</th>\n",
       "      <td>100.0</td>\n",
       "      <td>0.01</td>\n",
       "      <td>0.022727</td>\n",
       "      <td>0.032559</td>\n",
       "    </tr>\n",
       "    <tr>\n",
       "      <th>II</th>\n",
       "      <td>100.0</td>\n",
       "      <td>0.02</td>\n",
       "      <td>0.015625</td>\n",
       "      <td>0.046448</td>\n",
       "    </tr>\n",
       "    <tr>\n",
       "      <th>UU</th>\n",
       "      <td>100.0</td>\n",
       "      <td>0.00</td>\n",
       "      <td>0.000000</td>\n",
       "      <td>0.000000</td>\n",
       "    </tr>\n",
       "    <tr>\n",
       "      <th rowspan=\"6\" valign=\"top\">3</th>\n",
       "      <th rowspan=\"4\" valign=\"top\">ml100k</th>\n",
       "      <th>ALS</th>\n",
       "      <td>100.0</td>\n",
       "      <td>0.00</td>\n",
       "      <td>0.000000</td>\n",
       "      <td>0.000000</td>\n",
       "    </tr>\n",
       "    <tr>\n",
       "      <th>IALS</th>\n",
       "      <td>100.0</td>\n",
       "      <td>0.04</td>\n",
       "      <td>0.200000</td>\n",
       "      <td>0.111794</td>\n",
       "    </tr>\n",
       "    <tr>\n",
       "      <th>II</th>\n",
       "      <td>100.0</td>\n",
       "      <td>0.00</td>\n",
       "      <td>0.000000</td>\n",
       "      <td>0.000000</td>\n",
       "    </tr>\n",
       "    <tr>\n",
       "      <th>UU</th>\n",
       "      <td>100.0</td>\n",
       "      <td>0.00</td>\n",
       "      <td>0.000000</td>\n",
       "      <td>0.000000</td>\n",
       "    </tr>\n",
       "    <tr>\n",
       "      <th rowspan=\"2\" valign=\"top\">ml1m</th>\n",
       "      <th>ALS</th>\n",
       "      <td>100.0</td>\n",
       "      <td>0.01</td>\n",
       "      <td>0.020408</td>\n",
       "      <td>0.003834</td>\n",
       "    </tr>\n",
       "    <tr>\n",
       "      <th>IALS</th>\n",
       "      <td>100.0</td>\n",
       "      <td>0.04</td>\n",
       "      <td>0.200000</td>\n",
       "      <td>0.195066</td>\n",
       "    </tr>\n",
       "    <tr>\n",
       "      <th>...</th>\n",
       "      <th>...</th>\n",
       "      <th>...</th>\n",
       "      <td>...</td>\n",
       "      <td>...</td>\n",
       "      <td>...</td>\n",
       "      <td>...</td>\n",
       "    </tr>\n",
       "    <tr>\n",
       "      <th rowspan=\"2\" valign=\"top\">6033</th>\n",
       "      <th rowspan=\"2\" valign=\"top\">ml1m</th>\n",
       "      <th>II</th>\n",
       "      <td>100.0</td>\n",
       "      <td>0.00</td>\n",
       "      <td>0.000000</td>\n",
       "      <td>0.000000</td>\n",
       "    </tr>\n",
       "    <tr>\n",
       "      <th>UU</th>\n",
       "      <td>100.0</td>\n",
       "      <td>0.00</td>\n",
       "      <td>0.000000</td>\n",
       "      <td>0.000000</td>\n",
       "    </tr>\n",
       "    <tr>\n",
       "      <th rowspan=\"4\" valign=\"top\">6034</th>\n",
       "      <th rowspan=\"4\" valign=\"top\">ml1m</th>\n",
       "      <th>ALS</th>\n",
       "      <td>100.0</td>\n",
       "      <td>0.01</td>\n",
       "      <td>0.015385</td>\n",
       "      <td>0.058245</td>\n",
       "    </tr>\n",
       "    <tr>\n",
       "      <th>IALS</th>\n",
       "      <td>100.0</td>\n",
       "      <td>0.01</td>\n",
       "      <td>1.000000</td>\n",
       "      <td>0.350775</td>\n",
       "    </tr>\n",
       "    <tr>\n",
       "      <th>II</th>\n",
       "      <td>100.0</td>\n",
       "      <td>0.01</td>\n",
       "      <td>0.010204</td>\n",
       "      <td>0.053030</td>\n",
       "    </tr>\n",
       "    <tr>\n",
       "      <th>UU</th>\n",
       "      <td>100.0</td>\n",
       "      <td>0.00</td>\n",
       "      <td>0.000000</td>\n",
       "      <td>0.000000</td>\n",
       "    </tr>\n",
       "    <tr>\n",
       "      <th rowspan=\"4\" valign=\"top\">6035</th>\n",
       "      <th rowspan=\"4\" valign=\"top\">ml1m</th>\n",
       "      <th>ALS</th>\n",
       "      <td>100.0</td>\n",
       "      <td>0.00</td>\n",
       "      <td>0.000000</td>\n",
       "      <td>0.000000</td>\n",
       "    </tr>\n",
       "    <tr>\n",
       "      <th>IALS</th>\n",
       "      <td>100.0</td>\n",
       "      <td>0.02</td>\n",
       "      <td>0.017544</td>\n",
       "      <td>0.127267</td>\n",
       "    </tr>\n",
       "    <tr>\n",
       "      <th>II</th>\n",
       "      <td>100.0</td>\n",
       "      <td>0.01</td>\n",
       "      <td>0.016129</td>\n",
       "      <td>0.111054</td>\n",
       "    </tr>\n",
       "    <tr>\n",
       "      <th>UU</th>\n",
       "      <td>100.0</td>\n",
       "      <td>0.00</td>\n",
       "      <td>0.000000</td>\n",
       "      <td>0.000000</td>\n",
       "    </tr>\n",
       "    <tr>\n",
       "      <th rowspan=\"4\" valign=\"top\">6036</th>\n",
       "      <th rowspan=\"4\" valign=\"top\">ml1m</th>\n",
       "      <th>ALS</th>\n",
       "      <td>100.0</td>\n",
       "      <td>0.00</td>\n",
       "      <td>0.000000</td>\n",
       "      <td>0.000000</td>\n",
       "    </tr>\n",
       "    <tr>\n",
       "      <th>IALS</th>\n",
       "      <td>100.0</td>\n",
       "      <td>0.00</td>\n",
       "      <td>0.000000</td>\n",
       "      <td>0.000000</td>\n",
       "    </tr>\n",
       "    <tr>\n",
       "      <th>II</th>\n",
       "      <td>100.0</td>\n",
       "      <td>0.00</td>\n",
       "      <td>0.000000</td>\n",
       "      <td>0.000000</td>\n",
       "    </tr>\n",
       "    <tr>\n",
       "      <th>UU</th>\n",
       "      <td>100.0</td>\n",
       "      <td>0.00</td>\n",
       "      <td>0.000000</td>\n",
       "      <td>0.000000</td>\n",
       "    </tr>\n",
       "    <tr>\n",
       "      <th rowspan=\"4\" valign=\"top\">6037</th>\n",
       "      <th rowspan=\"4\" valign=\"top\">ml1m</th>\n",
       "      <th>ALS</th>\n",
       "      <td>100.0</td>\n",
       "      <td>0.00</td>\n",
       "      <td>0.000000</td>\n",
       "      <td>0.000000</td>\n",
       "    </tr>\n",
       "    <tr>\n",
       "      <th>IALS</th>\n",
       "      <td>100.0</td>\n",
       "      <td>0.01</td>\n",
       "      <td>0.058824</td>\n",
       "      <td>0.077148</td>\n",
       "    </tr>\n",
       "    <tr>\n",
       "      <th>II</th>\n",
       "      <td>100.0</td>\n",
       "      <td>0.00</td>\n",
       "      <td>0.000000</td>\n",
       "      <td>0.000000</td>\n",
       "    </tr>\n",
       "    <tr>\n",
       "      <th>UU</th>\n",
       "      <td>100.0</td>\n",
       "      <td>0.00</td>\n",
       "      <td>0.000000</td>\n",
       "      <td>0.000000</td>\n",
       "    </tr>\n",
       "    <tr>\n",
       "      <th rowspan=\"4\" valign=\"top\">6038</th>\n",
       "      <th rowspan=\"4\" valign=\"top\">ml1m</th>\n",
       "      <th>ALS</th>\n",
       "      <td>100.0</td>\n",
       "      <td>0.00</td>\n",
       "      <td>0.000000</td>\n",
       "      <td>0.000000</td>\n",
       "    </tr>\n",
       "    <tr>\n",
       "      <th>IALS</th>\n",
       "      <td>100.0</td>\n",
       "      <td>0.01</td>\n",
       "      <td>0.014085</td>\n",
       "      <td>0.046611</td>\n",
       "    </tr>\n",
       "    <tr>\n",
       "      <th>II</th>\n",
       "      <td>100.0</td>\n",
       "      <td>0.00</td>\n",
       "      <td>0.000000</td>\n",
       "      <td>0.000000</td>\n",
       "    </tr>\n",
       "    <tr>\n",
       "      <th>UU</th>\n",
       "      <td>100.0</td>\n",
       "      <td>0.00</td>\n",
       "      <td>0.000000</td>\n",
       "      <td>0.000000</td>\n",
       "    </tr>\n",
       "    <tr>\n",
       "      <th rowspan=\"4\" valign=\"top\">6039</th>\n",
       "      <th rowspan=\"4\" valign=\"top\">ml1m</th>\n",
       "      <th>ALS</th>\n",
       "      <td>100.0</td>\n",
       "      <td>0.02</td>\n",
       "      <td>0.111111</td>\n",
       "      <td>0.148586</td>\n",
       "    </tr>\n",
       "    <tr>\n",
       "      <th>IALS</th>\n",
       "      <td>100.0</td>\n",
       "      <td>0.03</td>\n",
       "      <td>0.166667</td>\n",
       "      <td>0.225767</td>\n",
       "    </tr>\n",
       "    <tr>\n",
       "      <th>II</th>\n",
       "      <td>100.0</td>\n",
       "      <td>0.01</td>\n",
       "      <td>0.100000</td>\n",
       "      <td>0.101591</td>\n",
       "    </tr>\n",
       "    <tr>\n",
       "      <th>UU</th>\n",
       "      <td>100.0</td>\n",
       "      <td>0.01</td>\n",
       "      <td>0.010204</td>\n",
       "      <td>0.051019</td>\n",
       "    </tr>\n",
       "    <tr>\n",
       "      <th rowspan=\"4\" valign=\"top\">6040</th>\n",
       "      <th rowspan=\"4\" valign=\"top\">ml1m</th>\n",
       "      <th>ALS</th>\n",
       "      <td>100.0</td>\n",
       "      <td>0.01</td>\n",
       "      <td>0.043478</td>\n",
       "      <td>0.066407</td>\n",
       "    </tr>\n",
       "    <tr>\n",
       "      <th>IALS</th>\n",
       "      <td>100.0</td>\n",
       "      <td>0.00</td>\n",
       "      <td>0.000000</td>\n",
       "      <td>0.000000</td>\n",
       "    </tr>\n",
       "    <tr>\n",
       "      <th>II</th>\n",
       "      <td>100.0</td>\n",
       "      <td>0.01</td>\n",
       "      <td>0.055556</td>\n",
       "      <td>0.072039</td>\n",
       "    </tr>\n",
       "    <tr>\n",
       "      <th>UU</th>\n",
       "      <td>100.0</td>\n",
       "      <td>0.01</td>\n",
       "      <td>0.076923</td>\n",
       "      <td>0.081179</td>\n",
       "    </tr>\n",
       "  </tbody>\n",
       "</table>\n",
       "<p>30369 rows × 4 columns</p>\n",
       "</div>"
      ],
      "text/plain": [
       "                         nrecs  precision  recip_rank      ndcg\n",
       "user dataset algorithms                                        \n",
       "1    ml100k  ALS         100.0       0.00    0.000000  0.000000\n",
       "             IALS        100.0       0.01    0.010526  0.026412\n",
       "             II          100.0       0.01    0.016393  0.029259\n",
       "             UU          100.0       0.00    0.000000  0.000000\n",
       "     ml1m    ALS         100.0       0.01    0.045455  0.038912\n",
       "             IALS        100.0       0.05    0.333333  0.230646\n",
       "             II          100.0       0.01    0.055556  0.041614\n",
       "             UU          100.0       0.01    0.010309  0.026292\n",
       "     mlsmall ALS         100.0       0.00    0.000000  0.000000\n",
       "             IALS        100.0       0.01    0.038462  0.036917\n",
       "             II          100.0       0.00    0.000000  0.000000\n",
       "             UU          100.0       0.00    0.000000  0.000000\n",
       "2    ml100k  ALS         100.0       0.02    0.062500  0.061168\n",
       "             IALS        100.0       0.05    0.111111  0.144221\n",
       "             II          100.0       0.01    0.055556  0.042627\n",
       "             UU          100.0       0.01    0.023810  0.032964\n",
       "     ml1m    ALS         100.0       0.03    0.166667  0.135977\n",
       "             IALS        100.0       0.05    0.043478  0.127820\n",
       "             II          100.0       0.03    0.076923  0.128245\n",
       "             UU          100.0       0.02    0.052632  0.066805\n",
       "     mlsmall ALS         100.0       0.01    0.047619  0.040469\n",
       "             IALS        100.0       0.01    0.022727  0.032559\n",
       "             II          100.0       0.02    0.015625  0.046448\n",
       "             UU          100.0       0.00    0.000000  0.000000\n",
       "3    ml100k  ALS         100.0       0.00    0.000000  0.000000\n",
       "             IALS        100.0       0.04    0.200000  0.111794\n",
       "             II          100.0       0.00    0.000000  0.000000\n",
       "             UU          100.0       0.00    0.000000  0.000000\n",
       "     ml1m    ALS         100.0       0.01    0.020408  0.003834\n",
       "             IALS        100.0       0.04    0.200000  0.195066\n",
       "...                        ...        ...         ...       ...\n",
       "6033 ml1m    II          100.0       0.00    0.000000  0.000000\n",
       "             UU          100.0       0.00    0.000000  0.000000\n",
       "6034 ml1m    ALS         100.0       0.01    0.015385  0.058245\n",
       "             IALS        100.0       0.01    1.000000  0.350775\n",
       "             II          100.0       0.01    0.010204  0.053030\n",
       "             UU          100.0       0.00    0.000000  0.000000\n",
       "6035 ml1m    ALS         100.0       0.00    0.000000  0.000000\n",
       "             IALS        100.0       0.02    0.017544  0.127267\n",
       "             II          100.0       0.01    0.016129  0.111054\n",
       "             UU          100.0       0.00    0.000000  0.000000\n",
       "6036 ml1m    ALS         100.0       0.00    0.000000  0.000000\n",
       "             IALS        100.0       0.00    0.000000  0.000000\n",
       "             II          100.0       0.00    0.000000  0.000000\n",
       "             UU          100.0       0.00    0.000000  0.000000\n",
       "6037 ml1m    ALS         100.0       0.00    0.000000  0.000000\n",
       "             IALS        100.0       0.01    0.058824  0.077148\n",
       "             II          100.0       0.00    0.000000  0.000000\n",
       "             UU          100.0       0.00    0.000000  0.000000\n",
       "6038 ml1m    ALS         100.0       0.00    0.000000  0.000000\n",
       "             IALS        100.0       0.01    0.014085  0.046611\n",
       "             II          100.0       0.00    0.000000  0.000000\n",
       "             UU          100.0       0.00    0.000000  0.000000\n",
       "6039 ml1m    ALS         100.0       0.02    0.111111  0.148586\n",
       "             IALS        100.0       0.03    0.166667  0.225767\n",
       "             II          100.0       0.01    0.100000  0.101591\n",
       "             UU          100.0       0.01    0.010204  0.051019\n",
       "6040 ml1m    ALS         100.0       0.01    0.043478  0.066407\n",
       "             IALS        100.0       0.00    0.000000  0.000000\n",
       "             II          100.0       0.01    0.055556  0.072039\n",
       "             UU          100.0       0.01    0.076923  0.081179\n",
       "\n",
       "[30369 rows x 4 columns]"
      ]
     },
     "execution_count": 19,
     "metadata": {},
     "output_type": "execute_result"
    }
   ],
   "source": [
    "rla = topn.RecListAnalysis()\n",
    "\n",
    "rla.add_metric(topn.precision)\n",
    "rla.add_metric(topn.recip_rank)\n",
    "rla.add_metric(topn.ndcg)\n",
    "\n",
    "results = rla.compute(recs, test)\n",
    "results"
   ]
  },
  {
   "cell_type": "markdown",
   "metadata": {},
   "source": [
    "# Results"
   ]
  },
  {
   "cell_type": "code",
   "execution_count": 21,
   "metadata": {},
   "outputs": [
    {
     "data": {
      "text/html": [
       "<div>\n",
       "<style scoped>\n",
       "    .dataframe tbody tr th:only-of-type {\n",
       "        vertical-align: middle;\n",
       "    }\n",
       "\n",
       "    .dataframe tbody tr th {\n",
       "        vertical-align: top;\n",
       "    }\n",
       "\n",
       "    .dataframe thead th {\n",
       "        text-align: right;\n",
       "    }\n",
       "</style>\n",
       "<table border=\"1\" class=\"dataframe\">\n",
       "  <thead>\n",
       "    <tr style=\"text-align: right;\">\n",
       "      <th></th>\n",
       "      <th>user</th>\n",
       "      <th>dataset</th>\n",
       "      <th>algorithms</th>\n",
       "      <th>nrecs</th>\n",
       "      <th>precision</th>\n",
       "      <th>recip_rank</th>\n",
       "      <th>ndcg</th>\n",
       "    </tr>\n",
       "  </thead>\n",
       "  <tbody>\n",
       "    <tr>\n",
       "      <th>0</th>\n",
       "      <td>1</td>\n",
       "      <td>ml100k</td>\n",
       "      <td>ALS</td>\n",
       "      <td>100.0</td>\n",
       "      <td>0.00</td>\n",
       "      <td>0.000000</td>\n",
       "      <td>0.000000</td>\n",
       "    </tr>\n",
       "    <tr>\n",
       "      <th>1</th>\n",
       "      <td>1</td>\n",
       "      <td>ml100k</td>\n",
       "      <td>IALS</td>\n",
       "      <td>100.0</td>\n",
       "      <td>0.01</td>\n",
       "      <td>0.010526</td>\n",
       "      <td>0.026412</td>\n",
       "    </tr>\n",
       "    <tr>\n",
       "      <th>2</th>\n",
       "      <td>1</td>\n",
       "      <td>ml100k</td>\n",
       "      <td>II</td>\n",
       "      <td>100.0</td>\n",
       "      <td>0.01</td>\n",
       "      <td>0.016393</td>\n",
       "      <td>0.029259</td>\n",
       "    </tr>\n",
       "    <tr>\n",
       "      <th>3</th>\n",
       "      <td>1</td>\n",
       "      <td>ml100k</td>\n",
       "      <td>UU</td>\n",
       "      <td>100.0</td>\n",
       "      <td>0.00</td>\n",
       "      <td>0.000000</td>\n",
       "      <td>0.000000</td>\n",
       "    </tr>\n",
       "    <tr>\n",
       "      <th>4</th>\n",
       "      <td>1</td>\n",
       "      <td>ml1m</td>\n",
       "      <td>ALS</td>\n",
       "      <td>100.0</td>\n",
       "      <td>0.01</td>\n",
       "      <td>0.045455</td>\n",
       "      <td>0.038912</td>\n",
       "    </tr>\n",
       "  </tbody>\n",
       "</table>\n",
       "</div>"
      ],
      "text/plain": [
       "  user dataset algorithms  nrecs  precision  recip_rank      ndcg\n",
       "0    1  ml100k        ALS  100.0       0.00    0.000000  0.000000\n",
       "1    1  ml100k       IALS  100.0       0.01    0.010526  0.026412\n",
       "2    1  ml100k         II  100.0       0.01    0.016393  0.029259\n",
       "3    1  ml100k         UU  100.0       0.00    0.000000  0.000000\n",
       "4    1    ml1m        ALS  100.0       0.01    0.045455  0.038912"
      ]
     },
     "execution_count": 21,
     "metadata": {},
     "output_type": "execute_result"
    }
   ],
   "source": [
    "results = results.reset_index()\n",
    "results.head()"
   ]
  },
  {
   "cell_type": "markdown",
   "metadata": {},
   "source": [
    "## The top-N metrics computed over the recommendation lists."
   ]
  },
  {
   "cell_type": "code",
   "execution_count": 22,
   "metadata": {},
   "outputs": [],
   "source": [
    "sns.set(style=\"whitegrid\")"
   ]
  },
  {
   "cell_type": "markdown",
   "metadata": {},
   "source": [
    "### ndcg"
   ]
  },
  {
   "cell_type": "markdown",
   "metadata": {},
   "source": [
    "The NDCG function estimates a utility score for a ranked list of recommendations."
   ]
  },
  {
   "cell_type": "code",
   "execution_count": 23,
   "metadata": {},
   "outputs": [
    {
     "data": {
      "image/png": "[encoded data removed]",
      "text/plain": [
       "<Figure size 756x360 with 3 Axes>"
      ]
     },
     "metadata": {},
     "output_type": "display_data"
    }
   ],
   "source": [
    "g = sns.catplot(x = \"algorithms\", y = \"ndcg\", data = results, kind=\"box\", col = \"dataset\", aspect=.7)"
   ]
  },
  {
   "cell_type": "code",
   "execution_count": 36,
   "metadata": {},
   "outputs": [
    {
     "data": {
      "image/png": "[encoded data removed]",
      "text/plain": [
       "<Figure size 756x360 with 3 Axes>"
      ]
     },
     "metadata": {},
     "output_type": "display_data"
    }
   ],
   "source": [
    "g = sns.catplot(x = \"algorithms\", y = \"ndcg\", data = results, kind=\"bar\", col = \"dataset\", aspect=.7)"
   ]
  },
  {
   "cell_type": "code",
   "execution_count": 51,
   "metadata": {},
   "outputs": [
    {
     "data": {
      "text/plain": [
       "(0.06802593155722818, 0.09464981925690458)"
      ]
     },
     "execution_count": 51,
     "metadata": {},
     "output_type": "execute_result"
    }
   ],
   "source": [
    "results['ndcg'].mean(), results['ndcg'].std()"
   ]
  },
  {
   "cell_type": "markdown",
   "metadata": {},
   "source": [
    "### precision"
   ]
  },
  {
   "cell_type": "markdown",
   "metadata": {},
   "source": [
    "The precision metric treats the recommendation list as a classification of relevant items. It computes the proportion or fraction of the recommended items that were used. "
   ]
  },
  {
   "cell_type": "code",
   "execution_count": 37,
   "metadata": {},
   "outputs": [
    {
     "data": {
      "image/png": "[encoded data removed]",
      "text/plain": [
       "<Figure size 756x360 with 3 Axes>"
      ]
     },
     "metadata": {},
     "output_type": "display_data"
    }
   ],
   "source": [
    "g = sns.catplot(x = \"algorithms\", y = \"precision\", data = results, kind=\"box\", col = \"dataset\", aspect=.7)"
   ]
  },
  {
   "cell_type": "code",
   "execution_count": 38,
   "metadata": {},
   "outputs": [
    {
     "data": {
      "image/png": "[encoded data removed]",
      "text/plain": [
       "<Figure size 756x360 with 3 Axes>"
      ]
     },
     "metadata": {},
     "output_type": "display_data"
    }
   ],
   "source": [
    "g = sns.catplot(x = \"algorithms\", y = \"precision\", data = results, kind=\"bar\", col = \"dataset\", aspect=.7)"
   ]
  },
  {
   "cell_type": "markdown",
   "metadata": {},
   "source": [
    "### reciprocal rank"
   ]
  },
  {
   "cell_type": "markdown",
   "metadata": {},
   "source": [
    "The reciprocal rank metric measures the average number of items scanned before the first relevant item in a list of recommendations is encountered."
   ]
  },
  {
   "cell_type": "code",
   "execution_count": 39,
   "metadata": {},
   "outputs": [
    {
     "data": {
      "image/png": "[encoded data removed]",
      "text/plain": [
       "<Figure size 756x360 with 3 Axes>"
      ]
     },
     "metadata": {},
     "output_type": "display_data"
    }
   ],
   "source": [
    "g = sns.catplot(x = \"algorithms\", y = \"recip_rank\", data = results, kind=\"box\", col = \"dataset\", aspect=.7)"
   ]
  },
  {
   "cell_type": "code",
   "execution_count": 40,
   "metadata": {},
   "outputs": [
    {
     "data": {
      "image/png": "[encoded data removed]",
      "text/plain": [
       "<Figure size 756x360 with 3 Axes>"
      ]
     },
     "metadata": {},
     "output_type": "display_data"
    }
   ],
   "source": [
    "g = sns.catplot(x = \"algorithms\", y = \"recip_rank\", data = results, kind=\"bar\", col = \"dataset\", aspect=.7)"
   ]
  },
  {
   "cell_type": "markdown",
   "metadata": {},
   "source": [
    "# Prediction Accuracy Metrics"
   ]
  },
  {
   "cell_type": "code",
   "execution_count": null,
   "metadata": {},
   "outputs": [],
   "source": [
    "global rmse by dtaset/algo\n",
    "per user rmse "
   ]
  },
  {
   "cell_type": "markdown",
   "metadata": {},
   "source": [
    "RMSE Computed per-user over the predictions:"
   ]
  },
  {
   "cell_type": "code",
   "execution_count": 70,
   "metadata": {},
   "outputs": [
    {
     "data": {
      "text/html": [
       "<div>\n",
       "<style scoped>\n",
       "    .dataframe tbody tr th:only-of-type {\n",
       "        vertical-align: middle;\n",
       "    }\n",
       "\n",
       "    .dataframe tbody tr th {\n",
       "        vertical-align: top;\n",
       "    }\n",
       "\n",
       "    .dataframe thead th {\n",
       "        text-align: right;\n",
       "    }\n",
       "</style>\n",
       "<table border=\"1\" class=\"dataframe\">\n",
       "  <thead>\n",
       "    <tr style=\"text-align: right;\">\n",
       "      <th></th>\n",
       "      <th>dataset</th>\n",
       "      <th>algorithms</th>\n",
       "      <th>user</th>\n",
       "      <th>rmse</th>\n",
       "    </tr>\n",
       "  </thead>\n",
       "  <tbody>\n",
       "    <tr>\n",
       "      <th>0</th>\n",
       "      <td>ml100k</td>\n",
       "      <td>ALS</td>\n",
       "      <td>1</td>\n",
       "      <td>0.709011</td>\n",
       "    </tr>\n",
       "    <tr>\n",
       "      <th>1</th>\n",
       "      <td>ml100k</td>\n",
       "      <td>ALS</td>\n",
       "      <td>2</td>\n",
       "      <td>1.150959</td>\n",
       "    </tr>\n",
       "    <tr>\n",
       "      <th>2</th>\n",
       "      <td>ml100k</td>\n",
       "      <td>ALS</td>\n",
       "      <td>3</td>\n",
       "      <td>1.213610</td>\n",
       "    </tr>\n",
       "    <tr>\n",
       "      <th>3</th>\n",
       "      <td>ml100k</td>\n",
       "      <td>ALS</td>\n",
       "      <td>4</td>\n",
       "      <td>0.862869</td>\n",
       "    </tr>\n",
       "    <tr>\n",
       "      <th>4</th>\n",
       "      <td>ml100k</td>\n",
       "      <td>ALS</td>\n",
       "      <td>5</td>\n",
       "      <td>1.141665</td>\n",
       "    </tr>\n",
       "  </tbody>\n",
       "</table>\n",
       "</div>"
      ],
      "text/plain": [
       "  dataset algorithms  user      rmse\n",
       "0  ml100k        ALS     1  0.709011\n",
       "1  ml100k        ALS     2  1.150959\n",
       "2  ml100k        ALS     3  1.213610\n",
       "3  ml100k        ALS     4  0.862869\n",
       "4  ml100k        ALS     5  1.141665"
      ]
     },
     "execution_count": 70,
     "metadata": {},
     "output_type": "execute_result"
    }
   ],
   "source": [
    "user_rmse = preds.groupby(['dataset','algorithms','user']).apply(lambda df: rmse(df.prediction, df.rating))\n",
    "user_rmse = user_rmse.reset_index()\n",
    "user_rmse.columns = ['dataset', 'algorithms', 'user', 'rmse']\n",
    "user_rmse.head()"
   ]
  },
  {
   "cell_type": "code",
   "execution_count": 76,
   "metadata": {},
   "outputs": [
    {
     "data": {
      "text/html": [
       "<div>\n",
       "<style scoped>\n",
       "    .dataframe tbody tr th:only-of-type {\n",
       "        vertical-align: middle;\n",
       "    }\n",
       "\n",
       "    .dataframe tbody tr th {\n",
       "        vertical-align: top;\n",
       "    }\n",
       "\n",
       "    .dataframe thead th {\n",
       "        text-align: right;\n",
       "    }\n",
       "</style>\n",
       "<table border=\"1\" class=\"dataframe\">\n",
       "  <thead>\n",
       "    <tr style=\"text-align: right;\">\n",
       "      <th></th>\n",
       "      <th>dataset</th>\n",
       "      <th>algorithms</th>\n",
       "      <th>user</th>\n",
       "      <th>rmse</th>\n",
       "    </tr>\n",
       "  </thead>\n",
       "  <tbody>\n",
       "    <tr>\n",
       "      <th>0</th>\n",
       "      <td>ml100k</td>\n",
       "      <td>ALS</td>\n",
       "      <td>472.0</td>\n",
       "      <td>0.869509</td>\n",
       "    </tr>\n",
       "    <tr>\n",
       "      <th>1</th>\n",
       "      <td>ml100k</td>\n",
       "      <td>IALS</td>\n",
       "      <td>472.0</td>\n",
       "      <td>2.968492</td>\n",
       "    </tr>\n",
       "    <tr>\n",
       "      <th>2</th>\n",
       "      <td>ml100k</td>\n",
       "      <td>II</td>\n",
       "      <td>472.0</td>\n",
       "      <td>0.860726</td>\n",
       "    </tr>\n",
       "    <tr>\n",
       "      <th>3</th>\n",
       "      <td>ml100k</td>\n",
       "      <td>UU</td>\n",
       "      <td>472.0</td>\n",
       "      <td>0.887957</td>\n",
       "    </tr>\n",
       "    <tr>\n",
       "      <th>4</th>\n",
       "      <td>ml1m</td>\n",
       "      <td>ALS</td>\n",
       "      <td>3020.5</td>\n",
       "      <td>0.832763</td>\n",
       "    </tr>\n",
       "  </tbody>\n",
       "</table>\n",
       "</div>"
      ],
      "text/plain": [
       "  dataset algorithms    user      rmse\n",
       "0  ml100k        ALS   472.0  0.869509\n",
       "1  ml100k       IALS   472.0  2.968492\n",
       "2  ml100k         II   472.0  0.860726\n",
       "3  ml100k         UU   472.0  0.887957\n",
       "4    ml1m        ALS  3020.5  0.832763"
      ]
     },
     "execution_count": 76,
     "metadata": {},
     "output_type": "execute_result"
    }
   ],
   "source": [
    "dataset_algo = user_rmse.groupby(['dataset', 'algorithms']).mean()\n",
    "dataset_algo = dataset_algo.reset_index()\n",
    "dataset_algo.head()"
   ]
  },
  {
   "cell_type": "code",
   "execution_count": 79,
   "metadata": {},
   "outputs": [
    {
     "data": {
      "image/png": "[encoded data removed]",
      "text/plain": [
       "<Figure size 756x360 with 3 Axes>"
      ]
     },
     "metadata": {},
     "output_type": "display_data"
    }
   ],
   "source": [
    "g = sns.catplot(x = \"algorithms\", y = \"rmse\", data = user_rmse, kind=\"box\", col = \"dataset\", aspect=.7)"
   ]
  },
  {
   "cell_type": "code",
   "execution_count": 80,
   "metadata": {},
   "outputs": [
    {
     "data": {
      "image/png": "[encoded data removed]",
      "text/plain": [
       "<Figure size 756x360 with 3 Axes>"
      ]
     },
     "metadata": {},
     "output_type": "display_data"
    }
   ],
   "source": [
    "g = sns.catplot(x = \"algorithms\", y = \"rmse\", data = user_rmse, kind=\"bar\", col = \"dataset\", aspect=.7)"
   ]
  },
  {
   "cell_type": "code",
   "execution_count": 41,
   "metadata": {},
   "outputs": [
    {
     "ename": "SyntaxError",
     "evalue": "invalid syntax (<ipython-input-41-7c0a82282d8d>, line 2)",
     "output_type": "error",
     "traceback": [
      "\u001b[1;36m  File \u001b[1;32m\"<ipython-input-41-7c0a82282d8d>\"\u001b[1;36m, line \u001b[1;32m2\u001b[0m\n\u001b[1;33m    Sections heading\u001b[0m\n\u001b[1;37m                   ^\u001b[0m\n\u001b[1;31mSyntaxError\u001b[0m\u001b[1;31m:\u001b[0m invalid syntax\n"
     ]
    }
   ],
   "source": [
    "#barplot\n",
    "Sections heading\n",
    "Text explaining what is going on\n",
    "\n",
    "Notebook Title\n",
    "Setup - import\n",
    "load data\n",
    "compute metrics\n",
    "Results\n",
    "Why we do things the way we do - links to lensiks\n",
    "\n",
    "Use the forward / -d data-split/mlsmall"
   ]
  }
 ],
 "metadata": {
  "kernelspec": {
   "display_name": "Python 3",
   "language": "python",
   "name": "python3"
  },
  "language_info": {
   "codemirror_mode": {
    "name": "ipython",
    "version": 3
   },
   "file_extension": ".py",
   "mimetype": "text/x-python",
   "name": "python",
   "nbconvert_exporter": "python",
   "pygments_lexer": "ipython3",
   "version": "3.7.3"
  }
 },
 "nbformat": 4,
 "nbformat_minor": 2
}
