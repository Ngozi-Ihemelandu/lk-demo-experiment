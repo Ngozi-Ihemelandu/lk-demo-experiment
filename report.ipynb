{
 "cells": [
  {
   "cell_type": "markdown",
   "metadata": {},
   "source": [
    "# Evaluation Analysis for Recommender Output"
   ]
  },
  {
   "cell_type": "markdown",
   "metadata": {},
   "source": [
    "In this section we will analyze and compare the generated recommendations and predictions from a predefined list of algorithms with the goal of assessing the performance of each algorithm with respect to a metric. In other words, we would rank the algorithms for each metric considered with respect to performance."
   ]
  },
  {
   "cell_type": "markdown",
   "metadata": {},
   "source": [
    "## Setup"
   ]
  },
  {
   "cell_type": "markdown",
   "metadata": {},
   "source": [
    "Below are the list of packages required to successfully run the analysis. They are demarked into partitions to signify their specific task"
   ]
  },
  {
   "cell_type": "code",
   "execution_count": 2,
   "metadata": {},
   "outputs": [],
   "source": [
    "from pathlib import Path"
   ]
  },
  {
   "cell_type": "code",
   "execution_count": 49,
   "metadata": {},
   "outputs": [],
   "source": [
    "import pandas as pd\n",
    "import numpy as np\n",
    "import seaborn as sns\n",
    "import matplotlib.pyplot as plt\n",
    "import statsmodels.stats.api as sms\n",
    "import statsmodels.formula.api as smf\n",
    "from statsmodels.stats.anova import AnovaRM\n",
    "from statsmodels.stats.multicomp import pairwise_tukeyhsd, MultiComparison\n",
    "from scipy.stats import friedmanchisquare"
   ]
  },
  {
   "cell_type": "code",
   "execution_count": 3,
   "metadata": {},
   "outputs": [],
   "source": [
    "from lenskit import topn\n",
    "from lenskit.metrics.predict import rmse"
   ]
  },
  {
   "cell_type": "markdown",
   "metadata": {},
   "source": [
    "## Load Data"
   ]
  },
  {
   "cell_type": "markdown",
   "metadata": {},
   "source": [
    "To begin the analysis, we first need to specify the dataset we would be working with, next we state the directory from which our recommendation and prediction files - which we had genertated from the prior section -  will be read from. "
   ]
  },
  {
   "cell_type": "code",
   "execution_count": 4,
   "metadata": {},
   "outputs": [],
   "source": [
    "dataset = \"ml100k\""
   ]
  },
  {
   "cell_type": "code",
   "execution_count": 5,
   "metadata": {},
   "outputs": [],
   "source": [
    "in_dir = Path(\"output\")"
   ]
  },
  {
   "cell_type": "code",
   "execution_count": 6,
   "metadata": {},
   "outputs": [],
   "source": [
    "dirs = [fld for fld in in_dir.glob(f'{dataset}-*')]"
   ]
  },
  {
   "cell_type": "markdown",
   "metadata": {},
   "source": [
    "The following lines of code, loads the content of our recommendation and prediction files to a pandas dataframe data structure and extract the names of the algorithms we will be considering from the directory name. "
   ]
  },
  {
   "cell_type": "code",
   "execution_count": 7,
   "metadata": {},
   "outputs": [],
   "source": [
    "recs = []\n",
    "for fld in dirs:\n",
    "    for file in fld.glob(\"recs-*\"):\n",
    "        rec = pd.read_csv(file, sep=',')\n",
    "        rec[\"dataset\"] = fld.name.split(\"-\")[0]\n",
    "        rec[\"algorithm\"] = fld.name.split(\"-\")[1]\n",
    "        recs.append(rec)\n",
    "\n",
    "recs = pd.concat(recs, ignore_index=True)\n",
    "recs = recs.astype({'dataset': 'category', 'algorithm': 'category'})"
   ]
  },
  {
   "cell_type": "code",
   "execution_count": 8,
   "metadata": {},
   "outputs": [],
   "source": [
    "preds = []\n",
    "for fld in dirs:\n",
    "    for file in fld.glob(\"pred-*\"):\n",
    "        pred = pd.read_csv(file, sep=',')\n",
    "        pred[\"dataset\"] = fld.name.split(\"-\")[0]\n",
    "        pred[\"algorithm\"] = fld.name.split(\"-\")[1]\n",
    "        preds.append(pred)\n",
    "\n",
    "preds = pd.concat(preds, ignore_index=True)"
   ]
  },
  {
   "cell_type": "code",
   "execution_count": 9,
   "metadata": {},
   "outputs": [],
   "source": [
    "testSplitData = \"splitData\""
   ]
  },
  {
   "cell_type": "code",
   "execution_count": 10,
   "metadata": {},
   "outputs": [],
   "source": [
    "SplitData_dir = Path(testSplitData)\n",
    "dirs = [fld for fld in SplitData_dir.glob(dataset)]"
   ]
  },
  {
   "cell_type": "code",
   "execution_count": 11,
   "metadata": {},
   "outputs": [],
   "source": [
    "test = []\n",
    "for fld in dirs:\n",
    "    for file in fld.glob(\"test-*\"):\n",
    "        test.append(pd.read_csv(file, sep=','))\n",
    "\n",
    "test = pd.concat(test, ignore_index=True)"
   ]
  },
  {
   "cell_type": "markdown",
   "metadata": {},
   "source": [
    "## Compute Metrics"
   ]
  },
  {
   "cell_type": "code",
   "execution_count": 12,
   "metadata": {},
   "outputs": [
    {
     "data": {
      "text/html": [
       "<div>\n",
       "<style scoped>\n",
       "    .dataframe tbody tr th:only-of-type {\n",
       "        vertical-align: middle;\n",
       "    }\n",
       "\n",
       "    .dataframe tbody tr th {\n",
       "        vertical-align: top;\n",
       "    }\n",
       "\n",
       "    .dataframe thead th {\n",
       "        text-align: right;\n",
       "    }\n",
       "</style>\n",
       "<table border=\"1\" class=\"dataframe\">\n",
       "  <thead>\n",
       "    <tr style=\"text-align: right;\">\n",
       "      <th></th>\n",
       "      <th></th>\n",
       "      <th></th>\n",
       "      <th>nrecs</th>\n",
       "      <th>precision</th>\n",
       "      <th>recip_rank</th>\n",
       "      <th>ndcg</th>\n",
       "    </tr>\n",
       "    <tr>\n",
       "      <th>user</th>\n",
       "      <th>dataset</th>\n",
       "      <th>algorithm</th>\n",
       "      <th></th>\n",
       "      <th></th>\n",
       "      <th></th>\n",
       "      <th></th>\n",
       "    </tr>\n",
       "  </thead>\n",
       "  <tbody>\n",
       "    <tr>\n",
       "      <th rowspan=\"4\" valign=\"top\">1</th>\n",
       "      <th rowspan=\"4\" valign=\"top\">ml100k</th>\n",
       "      <th>ALS</th>\n",
       "      <td>100.0</td>\n",
       "      <td>0.00</td>\n",
       "      <td>0.000000</td>\n",
       "      <td>0.000000</td>\n",
       "    </tr>\n",
       "    <tr>\n",
       "      <th>IALS</th>\n",
       "      <td>100.0</td>\n",
       "      <td>0.01</td>\n",
       "      <td>0.010526</td>\n",
       "      <td>0.051368</td>\n",
       "    </tr>\n",
       "    <tr>\n",
       "      <th>II</th>\n",
       "      <td>100.0</td>\n",
       "      <td>0.01</td>\n",
       "      <td>0.016393</td>\n",
       "      <td>0.056903</td>\n",
       "    </tr>\n",
       "    <tr>\n",
       "      <th>UU</th>\n",
       "      <td>100.0</td>\n",
       "      <td>0.00</td>\n",
       "      <td>0.000000</td>\n",
       "      <td>0.000000</td>\n",
       "    </tr>\n",
       "    <tr>\n",
       "      <th>2</th>\n",
       "      <th>ml100k</th>\n",
       "      <th>ALS</th>\n",
       "      <td>100.0</td>\n",
       "      <td>0.02</td>\n",
       "      <td>0.062500</td>\n",
       "      <td>0.129815</td>\n",
       "    </tr>\n",
       "  </tbody>\n",
       "</table>\n",
       "</div>"
      ],
      "text/plain": [
       "                        nrecs  precision  recip_rank      ndcg\n",
       "user dataset algorithm                                        \n",
       "1    ml100k  ALS        100.0       0.00    0.000000  0.000000\n",
       "             IALS       100.0       0.01    0.010526  0.051368\n",
       "             II         100.0       0.01    0.016393  0.056903\n",
       "             UU         100.0       0.00    0.000000  0.000000\n",
       "2    ml100k  ALS        100.0       0.02    0.062500  0.129815"
      ]
     },
     "execution_count": 12,
     "metadata": {},
     "output_type": "execute_result"
    }
   ],
   "source": [
    "rla = topn.RecListAnalysis()\n",
    "\n",
    "rla.add_metric(topn.precision)\n",
    "rla.add_metric(topn.recip_rank)\n",
    "rla.add_metric(topn.ndcg)\n",
    "results = rla.compute(recs, test, include_missing=True)\n",
    "results = results.fillna(0)\n",
    "results.head()"
   ]
  },
  {
   "cell_type": "code",
   "execution_count": 13,
   "metadata": {},
   "outputs": [],
   "source": [
    "def summarize(vals):\n",
    "    summary = sms.DescrStatsW(vals)\n",
    "    lo, hi = summary.tconfint_mean()\n",
    "    return pd.Series({'mean': np.mean(vals), 'lower': lo, 'higher': hi})"
   ]
  },
  {
   "cell_type": "code",
   "execution_count": 14,
   "metadata": {},
   "outputs": [
    {
     "data": {
      "text/plain": [
       "algorithm                    \n",
       "ALS        precision   mean      0.010594\n",
       "                       lower     0.009917\n",
       "                       higher    0.011271\n",
       "           recip_rank  mean      0.072280\n",
       "                       lower     0.060951\n",
       "                       higher    0.083610\n",
       "           ndcg        mean      0.080681\n",
       "                       lower     0.074329\n",
       "                       higher    0.087034\n",
       "IALS       precision   mean      0.033701\n",
       "                       lower     0.032895\n",
       "                       higher    0.034507\n",
       "           recip_rank  mean      0.201434\n",
       "                       lower     0.184915\n",
       "                       higher    0.217952\n",
       "           ndcg        mean      0.256107\n",
       "                       lower     0.245898\n",
       "                       higher    0.266317\n",
       "II         precision   mean      0.009024\n",
       "                       lower     0.008385\n",
       "                       higher    0.009664\n",
       "           recip_rank  mean      0.039078\n",
       "                       lower     0.032363\n",
       "                       higher    0.045794\n",
       "           ndcg        mean      0.059770\n",
       "                       lower     0.054948\n",
       "                       higher    0.064592\n",
       "UU         precision   mean      0.006755\n",
       "                       lower     0.006228\n",
       "                       higher    0.007282\n",
       "           recip_rank  mean      0.014480\n",
       "                       lower     0.011837\n",
       "                       higher    0.017124\n",
       "           ndcg        mean      0.037439\n",
       "                       lower     0.034466\n",
       "                       higher    0.040412\n",
       "dtype: float64"
      ]
     },
     "execution_count": 14,
     "metadata": {},
     "output_type": "execute_result"
    }
   ],
   "source": [
    "stats = results.drop(columns=['nrecs']).stack().groupby(level=['algorithm', -1]).apply(summarize)\n",
    "stats"
   ]
  },
  {
   "cell_type": "code",
   "execution_count": 15,
   "metadata": {},
   "outputs": [],
   "source": [
    "pltData = (results.drop(columns=['nrecs']).stack()).reset_index().drop(columns=['dataset'])\n",
    "pltData.columns = ['user', 'algorithm','metric', 'val']"
   ]
  },
  {
   "cell_type": "code",
   "execution_count": 16,
   "metadata": {},
   "outputs": [
    {
     "data": {
      "image/png": "[encoded data removed]",
      "text/plain": [
       "<Figure size 756x360 with 3 Axes>"
      ]
     },
     "metadata": {
      "needs_background": "light"
     },
     "output_type": "display_data"
    }
   ],
   "source": [
    "g = sns.catplot(x = \"algorithm\", y = \"val\", data = pltData, kind=\"bar\", col = \"metric\", aspect=.7)"
   ]
  },
  {
   "cell_type": "markdown",
   "metadata": {},
   "source": [
    "Which algorithm performed best? We need to perform significance testing on the results to ensure that the ranking of the algo based on the metric results are not by chance."
   ]
  },
  {
   "cell_type": "code",
   "execution_count": 17,
   "metadata": {},
   "outputs": [],
   "source": [
    "grp_data = results.drop(columns=['nrecs']).reset_index()"
   ]
  },
  {
   "cell_type": "markdown",
   "metadata": {},
   "source": [
    "# ndcg   "
   ]
  },
  {
   "cell_type": "markdown",
   "metadata": {},
   "source": [
    "#### Repeated Measures ANOVA"
   ]
  },
  {
   "cell_type": "code",
   "execution_count": 18,
   "metadata": {},
   "outputs": [
    {
     "name": "stdout",
     "output_type": "stream",
     "text": [
      "                  Anova\n",
      "==========================================\n",
      "          F Value  Num DF   Den DF  Pr > F\n",
      "------------------------------------------\n",
      "algorithm 998.7848 3.0000 2826.0000 0.0000\n",
      "==========================================\n",
      "\n"
     ]
    }
   ],
   "source": [
    "aovrm = AnovaRM(grp_data, 'ndcg', 'user', within=['algorithm'])\n",
    "res = aovrm.fit()\n",
    "\n",
    "print(res)"
   ]
  },
  {
   "cell_type": "markdown",
   "metadata": {},
   "source": [
    "#### Post Hoc analysis - Tukey's HSD"
   ]
  },
  {
   "cell_type": "code",
   "execution_count": 20,
   "metadata": {},
   "outputs": [
    {
     "name": "stdout",
     "output_type": "stream",
     "text": [
      "Multiple Comparison of Means - Tukey HSD, FWER=0.05\n",
      "===================================================\n",
      "group1 group2 meandiff p-adj  lower   upper  reject\n",
      "---------------------------------------------------\n",
      "   ALS   IALS   0.1754 0.001  0.1631  0.1877   True\n",
      "   ALS     II  -0.0209 0.001 -0.0332 -0.0086   True\n",
      "   ALS     UU  -0.0432 0.001 -0.0556 -0.0309   True\n",
      "  IALS     II  -0.1963 0.001 -0.2086  -0.184   True\n",
      "  IALS     UU  -0.2187 0.001  -0.231 -0.2064   True\n",
      "    II     UU  -0.0223 0.001 -0.0346   -0.01   True\n",
      "---------------------------------------------------\n",
      "['ALS' 'IALS' 'II' 'UU']\n"
     ]
    }
   ],
   "source": [
    "mc = MultiComparison(grp_data['ndcg'], grp_data['algorithm'])\n",
    "result = mc.tukeyhsd()\n",
    "print(result)\n",
    "print(mc.groupsunique)"
   ]
  },
  {
   "cell_type": "markdown",
   "metadata": {},
   "source": [
    "#### The Friedman test - nonparametric version of the repeated measures ANOVA"
   ]
  },
  {
   "cell_type": "code",
   "execution_count": 21,
   "metadata": {},
   "outputs": [
    {
     "name": "stdout",
     "output_type": "stream",
     "text": [
      "Statistics=1471.867, p=0.000\n"
     ]
    }
   ],
   "source": [
    "arg = []\n",
    "for alg, data in grp_data.groupby(\"algorithm\"):\n",
    "    arg.append(data[\"ndcg\"].to_numpy())\n",
    "stat, p = friedmanchisquare(arg[0], arg[1], arg[2], arg[3])\n",
    "print('Statistics=%.3f, p=%.3f' % (stat, p))"
   ]
  },
  {
   "cell_type": "markdown",
   "metadata": {},
   "source": [
    "#### Mixed Linear Model Regression"
   ]
  },
  {
   "cell_type": "code",
   "execution_count": 54,
   "metadata": {},
   "outputs": [
    {
     "name": "stderr",
     "output_type": "stream",
     "text": [
      "C:\\Users\\ngozi\\Anaconda3\\lib\\site-packages\\statsmodels\\regression\\mixed_linear_model.py:2094: ConvergenceWarning: The MLE may be on the boundary of the parameter space.\n",
      "  msg = \"The MLE may be on the boundary of the parameter space.\"\n"
     ]
    },
    {
     "name": "stdout",
     "output_type": "stream",
     "text": [
      "           Mixed Linear Model Regression Results\n",
      "============================================================\n",
      "Model:               MixedLM  Dependent Variable:  ndcg     \n",
      "No. Observations:    3772     Method:              REML     \n",
      "No. Groups:          943      Scale:               0.0094   \n",
      "Min. group size:     4        Likelihood:          3208.4201\n",
      "Max. group size:     4        Converged:           Yes      \n",
      "Mean group size:     4.0                                    \n",
      "------------------------------------------------------------\n",
      "                  Coef.  Std.Err.   z    P>|z| [0.025 0.975]\n",
      "------------------------------------------------------------\n",
      "Intercept          0.081    0.003 23.824 0.000  0.074  0.087\n",
      "algorithm[T.IALS]  0.175    0.004 39.212 0.000  0.167  0.184\n",
      "algorithm[T.II]   -0.021    0.004 -4.674 0.000 -0.030 -0.012\n",
      "algorithm[T.UU]   -0.043    0.004 -9.666 0.000 -0.052 -0.034\n",
      "Group Var          0.001    0.002                           \n",
      "============================================================\n",
      "\n"
     ]
    }
   ],
   "source": [
    "mixedlm = smf.mixedlm(\"ndcg ~ algorithm\", grp_data, groups=grp_data[\"user\"])\n",
    "mixedlmf = mixedlm.fit()\n",
    "print(mixedlmf.summary())"
   ]
  },
  {
   "cell_type": "code",
   "execution_count": 56,
   "metadata": {},
   "outputs": [
    {
     "data": {
      "text/plain": [
       "<seaborn.axisgrid.FacetGrid at 0x274a6521ba8>"
      ]
     },
     "execution_count": 56,
     "metadata": {},
     "output_type": "execute_result"
    },
    {
     "data": {
      "image/png": "[encoded data removed]",
      "text/plain": [
       "<Figure size 360x360 with 1 Axes>"
      ]
     },
     "metadata": {
      "needs_background": "light"
     },
     "output_type": "display_data"
    }
   ],
   "source": [
    "performance = pd.DataFrame()\n",
    "performance[\"residuals\"] = mixedlmf.resid.values\n",
    "performance[\"ndcg\"] = grp_data.ndcg\n",
    "performance[\"predicted\"] = mixedlmf.fittedvalues\n",
    "\n",
    "sns.lmplot(x = \"predicted\", y = \"residuals\", data = performance)\n"
   ]
  },
  {
   "cell_type": "markdown",
   "metadata": {},
   "source": [
    "# precision   "
   ]
  },
  {
   "cell_type": "markdown",
   "metadata": {},
   "source": [
    "#### Repeated Measures ANOVA"
   ]
  },
  {
   "cell_type": "code",
   "execution_count": 22,
   "metadata": {},
   "outputs": [
    {
     "name": "stdout",
     "output_type": "stream",
     "text": [
      "                   Anova\n",
      "===========================================\n",
      "           F Value  Num DF   Den DF  Pr > F\n",
      "-------------------------------------------\n",
      "algorithm 1932.4292 3.0000 2826.0000 0.0000\n",
      "===========================================\n",
      "\n"
     ]
    }
   ],
   "source": [
    "aovrm = AnovaRM(grp_data, 'precision', 'user', within=['algorithm'])\n",
    "res = aovrm.fit()\n",
    "\n",
    "print(res)"
   ]
  },
  {
   "cell_type": "markdown",
   "metadata": {},
   "source": [
    "#### Post Hoc analysis - Tukey's HSD"
   ]
  },
  {
   "cell_type": "code",
   "execution_count": 23,
   "metadata": {},
   "outputs": [
    {
     "name": "stdout",
     "output_type": "stream",
     "text": [
      "Multiple Comparison of Means - Tukey HSD, FWER=0.05 \n",
      "====================================================\n",
      "group1 group2 meandiff p-adj   lower   upper  reject\n",
      "----------------------------------------------------\n",
      "   ALS   IALS   0.0231  0.001  0.0219  0.0243   True\n",
      "   ALS     II  -0.0016 0.0064 -0.0028 -0.0003   True\n",
      "   ALS     UU  -0.0038  0.001 -0.0051 -0.0026   True\n",
      "  IALS     II  -0.0247  0.001 -0.0259 -0.0234   True\n",
      "  IALS     UU  -0.0269  0.001 -0.0282 -0.0257   True\n",
      "    II     UU  -0.0023  0.001 -0.0035  -0.001   True\n",
      "----------------------------------------------------\n",
      "['ALS' 'IALS' 'II' 'UU']\n"
     ]
    }
   ],
   "source": [
    "mc = MultiComparison(grp_data['precision'], grp_data['algorithm'])\n",
    "result = mc.tukeyhsd()\n",
    "print(result)\n",
    "print(mc.groupsunique)"
   ]
  },
  {
   "cell_type": "markdown",
   "metadata": {},
   "source": [
    "#### The Friedman test - nonparametric version of the repeated measures ANOVA"
   ]
  },
  {
   "cell_type": "code",
   "execution_count": 24,
   "metadata": {},
   "outputs": [
    {
     "name": "stdout",
     "output_type": "stream",
     "text": [
      "Statistics=1802.031, p=0.000\n"
     ]
    }
   ],
   "source": [
    "arg = []\n",
    "for alg, data in grp_data.groupby(\"algorithm\"):\n",
    "    arg.append(data[\"precision\"].to_numpy())\n",
    "stat, p = friedmanchisquare(arg[0], arg[1], arg[2], arg[3])\n",
    "print('Statistics=%.3f, p=%.3f' % (stat, p))"
   ]
  },
  {
   "cell_type": "markdown",
   "metadata": {},
   "source": [
    "# recip_rank"
   ]
  },
  {
   "cell_type": "markdown",
   "metadata": {},
   "source": [
    "#### Repeated Measures ANOVA"
   ]
  },
  {
   "cell_type": "code",
   "execution_count": 25,
   "metadata": {},
   "outputs": [
    {
     "name": "stdout",
     "output_type": "stream",
     "text": [
      "                  Anova\n",
      "==========================================\n",
      "          F Value  Num DF   Den DF  Pr > F\n",
      "------------------------------------------\n",
      "algorithm 245.0555 3.0000 2826.0000 0.0000\n",
      "==========================================\n",
      "\n"
     ]
    }
   ],
   "source": [
    "aovrm = AnovaRM(grp_data, 'recip_rank', 'user', within=['algorithm'])\n",
    "res = aovrm.fit()\n",
    "\n",
    "print(res)"
   ]
  },
  {
   "cell_type": "markdown",
   "metadata": {},
   "source": [
    "#### Post Hoc analysis - Tukey's HSD"
   ]
  },
  {
   "cell_type": "code",
   "execution_count": 26,
   "metadata": {},
   "outputs": [
    {
     "name": "stdout",
     "output_type": "stream",
     "text": [
      "Multiple Comparison of Means - Tukey HSD, FWER=0.05 \n",
      "====================================================\n",
      "group1 group2 meandiff p-adj   lower   upper  reject\n",
      "----------------------------------------------------\n",
      "   ALS   IALS   0.1292  0.001  0.1094  0.1489   True\n",
      "   ALS     II  -0.0332  0.001 -0.0529 -0.0135   True\n",
      "   ALS     UU  -0.0578  0.001 -0.0775 -0.0381   True\n",
      "  IALS     II  -0.1624  0.001 -0.1821 -0.1426   True\n",
      "  IALS     UU   -0.187  0.001 -0.2067 -0.1672   True\n",
      "    II     UU  -0.0246 0.0074 -0.0443 -0.0049   True\n",
      "----------------------------------------------------\n",
      "['ALS' 'IALS' 'II' 'UU']\n"
     ]
    }
   ],
   "source": [
    "mc = MultiComparison(grp_data['recip_rank'], grp_data['algorithm'])\n",
    "result = mc.tukeyhsd()\n",
    "print(result)\n",
    "print(mc.groupsunique)"
   ]
  },
  {
   "cell_type": "markdown",
   "metadata": {},
   "source": [
    "#### The Friedman test - nonparametric version of the repeated measures ANOVA"
   ]
  },
  {
   "cell_type": "code",
   "execution_count": 27,
   "metadata": {},
   "outputs": [
    {
     "name": "stdout",
     "output_type": "stream",
     "text": [
      "Statistics=1147.249, p=0.000\n"
     ]
    }
   ],
   "source": [
    "arg = []\n",
    "for alg, data in grp_data.groupby(\"algorithm\"):\n",
    "    arg.append(data[\"recip_rank\"].to_numpy())\n",
    "stat, p = friedmanchisquare(arg[0], arg[1], arg[2], arg[3])\n",
    "print('Statistics=%.3f, p=%.3f' % (stat, p))"
   ]
  },
  {
   "cell_type": "code",
   "execution_count": null,
   "metadata": {},
   "outputs": [],
   "source": []
  }
 ],
 "metadata": {
  "kernelspec": {
   "display_name": "Python 3",
   "language": "python",
   "name": "python3"
  },
  "language_info": {
   "codemirror_mode": {
    "name": "ipython",
    "version": 3
   },
   "file_extension": ".py",
   "mimetype": "text/x-python",
   "name": "python",
   "nbconvert_exporter": "python",
   "pygments_lexer": "ipython3",
   "version": "3.7.3"
  }
 },
 "nbformat": 4,
 "nbformat_minor": 2
}
